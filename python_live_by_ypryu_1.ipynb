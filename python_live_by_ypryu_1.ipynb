{
  "nbformat": 4,
  "nbformat_minor": 0,
  "metadata": {
    "colab": {
      "name": "elice_11/30",
      "private_outputs": true,
      "provenance": [],
      "authorship_tag": "ABX9TyOI25r7c0ak+lQxjZi7eaZz",
      "include_colab_link": true
    },
    "kernelspec": {
      "name": "python3",
      "display_name": "Python 3"
    },
    "language_info": {
      "name": "python"
    }
  },
  "cells": [
    {
      "cell_type": "markdown",
      "metadata": {
        "id": "view-in-github",
        "colab_type": "text"
      },
      "source": [
        "<a href=\"https://colab.research.google.com/github/selogdata/selogdata.github.io/blob/main/python_live_by_ypryu_1.ipynb\" target=\"_parent\"><img src=\"https://colab.research.google.com/assets/colab-badge.svg\" alt=\"Open In Colab\"/></a>"
      ]
    },
    {
      "cell_type": "code",
      "metadata": {
        "id": "LQrokHlfbxj8"
      },
      "source": [
        ""
      ],
      "execution_count": null,
      "outputs": []
    },
    {
      "cell_type": "markdown",
      "metadata": {
        "id": "zgbfS0I1b0ml"
      },
      "source": [
        "문제 1"
      ]
    },
    {
      "cell_type": "code",
      "metadata": {
        "id": "umMQWQ7rb2bi"
      },
      "source": [
        "people = ['펭수', '뽀로로', '뚝딱이', '텔레토비']"
      ],
      "execution_count": null,
      "outputs": []
    },
    {
      "cell_type": "code",
      "metadata": {
        "id": "N5kSGYI8cEnE"
      },
      "source": [
        "def func1(line):\n",
        "  new_lines = []\n",
        "  i=1\n",
        "  for x in line:\n",
        "    print('대기번호 %d번 : %s' %(i,x))\n",
        "    new_lines.append((i,x))\n",
        "    i +=1\n",
        "  return new_lines"
      ],
      "execution_count": null,
      "outputs": []
    },
    {
      "cell_type": "code",
      "metadata": {
        "id": "7YHJ0WPjcUM_"
      },
      "source": [
        "abc = ['a', 'b', 'c']\n",
        "\n",
        "for x in enumerate(abc):\n",
        "    print(x)"
      ],
      "execution_count": null,
      "outputs": []
    },
    {
      "cell_type": "code",
      "metadata": {
        "id": "ltv2u0YYcmW1"
      },
      "source": [
        "def func1_with_enu(line):\n",
        "    new_lines = []\n",
        "    for idx.val in enumerate(line):\n",
        "        print('대기번호 %d번 : %s' %(idx+1.val))\n",
        "        new_lines.append((idx+1.val))\n",
        "        return new_lines"
      ],
      "execution_count": null,
      "outputs": []
    },
    {
      "cell_type": "code",
      "metadata": {
        "id": "RKesL4nkdlL7"
      },
      "source": [
        "func1_with_enu(people)"
      ],
      "execution_count": null,
      "outputs": []
    },
    {
      "cell_type": "markdown",
      "metadata": {
        "id": "bmcHqeEkeRzU"
      },
      "source": [
        "# zip(함수)"
      ]
    },
    {
      "cell_type": "code",
      "metadata": {
        "id": "IizCAZ2veQjW"
      },
      "source": [
        "list_3 = ['a', 'b', 'c']"
      ],
      "execution_count": null,
      "outputs": []
    },
    {
      "cell_type": "code",
      "metadata": {
        "id": "6yzwHVyZehkx"
      },
      "source": [
        "list_4 = ['가', '나', '다']"
      ],
      "execution_count": null,
      "outputs": []
    },
    {
      "cell_type": "code",
      "metadata": {
        "id": "i2fgy7Eeemcv"
      },
      "source": [
        "list_3 + list_4"
      ],
      "execution_count": null,
      "outputs": []
    },
    {
      "cell_type": "code",
      "metadata": {
        "id": "YOAVV4mIevfC"
      },
      "source": [
        "for i in zip(list_3, list_4):\n",
        "    print(i)"
      ],
      "execution_count": null,
      "outputs": []
    },
    {
      "cell_type": "code",
      "metadata": {
        "id": "cyX6iKcbe9hz"
      },
      "source": [
        "list(zip(range(3), ['fee', 'fi', 'fo', 'fum']))"
      ],
      "execution_count": null,
      "outputs": []
    },
    {
      "cell_type": "markdown",
      "metadata": {
        "id": "-hVQYdHZfT3v"
      },
      "source": [
        "# lambda\n",
        "\n",
        "- 속도와 가독성 때문에 사용해요 :)\n",
        "- lambda 를 쓸 줄 알면 함수를 자유롭게 쓸 수 있다는 것!\n",
        "\n",
        "- `for` 를 적재적소에 잘 쓸 줄 알아야 해요!! (더 중요)"
      ]
    },
    {
      "cell_type": "code",
      "metadata": {
        "id": "ZYux4_UWfWCD"
      },
      "source": [
        "def plus_two(num):\n",
        "    return num+2"
      ],
      "execution_count": null,
      "outputs": []
    },
    {
      "cell_type": "code",
      "metadata": {
        "id": "5pdgQTa9fdP6"
      },
      "source": [
        "a=2\n",
        "b=plus_two(a)\n",
        "print(b)"
      ],
      "execution_count": null,
      "outputs": []
    },
    {
      "cell_type": "code",
      "metadata": {
        "id": "eSbe-kE0fjTv"
      },
      "source": [
        "lambda x:x+2"
      ],
      "execution_count": null,
      "outputs": []
    },
    {
      "cell_type": "code",
      "metadata": {
        "id": "oLq2fL9EfmoW"
      },
      "source": [
        "func2 = lambda x: x+2"
      ],
      "execution_count": null,
      "outputs": []
    },
    {
      "cell_type": "code",
      "metadata": {
        "id": "-82PHz32fqRz"
      },
      "source": [
        "c = func2(2)"
      ],
      "execution_count": null,
      "outputs": []
    },
    {
      "cell_type": "code",
      "metadata": {
        "id": "mGePt7aGftBM"
      },
      "source": [
        "c"
      ],
      "execution_count": null,
      "outputs": []
    },
    {
      "cell_type": "markdown",
      "metadata": {
        "id": "VMvs4RzZf1wM"
      },
      "source": [
        "## 함수 => 초등학생에게 설명해보세요!\n",
        "어떤 상자에 무엇을 넣었더니 작동되어 나오는 것"
      ]
    },
    {
      "cell_type": "markdown",
      "metadata": {
        "id": "G6JLVNmKgHdv"
      },
      "source": [
        "# map"
      ]
    },
    {
      "cell_type": "code",
      "metadata": {
        "id": "PIzw9dwEgJYd"
      },
      "source": [
        "items = [1,2,3,4,5]"
      ],
      "execution_count": null,
      "outputs": []
    },
    {
      "cell_type": "code",
      "metadata": {
        "id": "oSn--H0JgbLg"
      },
      "source": [
        "squared = []\n",
        "for i in items:\n",
        "    squared.append(i*i)"
      ],
      "execution_count": null,
      "outputs": []
    },
    {
      "cell_type": "code",
      "metadata": {
        "id": "AMvpl3A5gjGi"
      },
      "source": [
        "print(squared)"
      ],
      "execution_count": null,
      "outputs": []
    },
    {
      "cell_type": "code",
      "metadata": {
        "id": "uggNrT3pgmOD"
      },
      "source": [
        "squared_map = list(map(lambda x:x**2, items))"
      ],
      "execution_count": null,
      "outputs": []
    },
    {
      "cell_type": "code",
      "metadata": {
        "id": "LyiWIB3VhkNB"
      },
      "source": [
        "print(squared_map)"
      ],
      "execution_count": null,
      "outputs": []
    },
    {
      "cell_type": "markdown",
      "metadata": {
        "id": "1cNtPisqhpef"
      },
      "source": [
        "# Quiz\n"
      ]
    },
    {
      "cell_type": "code",
      "metadata": {
        "id": "-5lFcV_9hs5q"
      },
      "source": [
        "items = [1, 24, 3, 6, 7]"
      ],
      "execution_count": null,
      "outputs": []
    },
    {
      "cell_type": "code",
      "metadata": {
        "id": "QM1rzXQhhyJs"
      },
      "source": [
        "str_items = list(map(lambda x:str(x), items))"
      ],
      "execution_count": null,
      "outputs": []
    },
    {
      "cell_type": "code",
      "metadata": {
        "id": "nqCgyqIFiTZN"
      },
      "source": [
        "print(str_items)"
      ],
      "execution_count": null,
      "outputs": []
    }
  ]
}